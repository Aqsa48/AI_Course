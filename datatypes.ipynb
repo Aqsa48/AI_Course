{
 "cells": [
  {
   "cell_type": "markdown",
   "metadata": {},
   "source": [
    "##  Python Datatypes"
   ]
  },
  {
   "cell_type": "markdown",
   "metadata": {},
   "source": [
    "Here is an example Python code that demonstrates various data types:"
   ]
  },
  {
   "cell_type": "code",
   "execution_count": 1,
   "metadata": {},
   "outputs": [
    {
     "name": "stdout",
     "output_type": "stream",
     "text": [
      "Basic Data Types:\n",
      "int: 10, float: 3.14, complex: (1+2j), bool: True, str: Hello, World!, NoneType: None\n"
     ]
    }
   ],
   "source": [
    "\n",
    "\n",
    "# Basic data types\n",
    "a = 10                # int\n",
    "b = 3.14              # float\n",
    "c = 1 + 2j            # complex\n",
    "d = True              # bool\n",
    "e = \"Hello, World!\"   # str\n",
    "f = None              # NoneType\n",
    "\n",
    "print(\"Basic Data Types:\")\n",
    "print(f\"int: {a}, float: {b}, complex: {c}, bool: {d}, str: {e}, NoneType: {f}\")"
   ]
  },
  {
   "cell_type": "markdown",
   "metadata": {},
   "source": [
    "## List\n",
    "List\n",
    "Description:\n",
    "Ordered: Maintains the order of elements.\n",
    "Mutable: Can be modified after creation.\n",
    "Allows Duplicates: Can contain duplicate elements.\n",
    "Indexing: Supports indexing and slicing.\n",
    "\n",
    "## Common Operations:\n",
    "Adding elements: append(), extend(), insert()\n",
    "Removing elements: remove(), pop(), clear()\n",
    "Other methods: sort(), reverse(), count(), index()"
   ]
  },
  {
   "cell_type": "code",
   "execution_count": 14,
   "metadata": {},
   "outputs": [],
   "source": [
    "fruits = ['apple', 'banana', 'cherry']"
   ]
  },
  {
   "cell_type": "code",
   "execution_count": 17,
   "metadata": {},
   "outputs": [
    {
     "data": {
      "text/plain": [
       "['apple', 'banana', 'graphs']"
      ]
     },
     "execution_count": 17,
     "metadata": {},
     "output_type": "execute_result"
    }
   ],
   "source": [
    "# print( fruits)\n",
    "# fruits.append(\"graphs\")\n",
    "fruits.pop(2)\n",
    "fruits"
   ]
  },
  {
   "cell_type": "markdown",
   "metadata": {},
   "source": [
    "## Tuple\n",
    "Description:\n",
    "Ordered: Maintains the order of elements.\n",
    "Immutable: Cannot be modified after creation.\n",
    "Allows Duplicates: Can contain duplicate elements.\n",
    "Indexing: Supports indexing and slicing."
   ]
  },
  {
   "cell_type": "markdown",
   "metadata": {},
   "source": [
    "## Common Operations:\n",
    "Accessing elements via indexing and slicing.\n",
    "Counting elements: count()\n",
    "Finding index: index()"
   ]
  },
  {
   "cell_type": "code",
   "execution_count": 18,
   "metadata": {},
   "outputs": [
    {
     "name": "stdout",
     "output_type": "stream",
     "text": [
      "(1920, 1080)\n"
     ]
    }
   ],
   "source": [
    "# Creating a tuple\n",
    "dimensions = (1920, 1080)\n",
    "print(dimensions)"
   ]
  },
  {
   "cell_type": "code",
   "execution_count": 21,
   "metadata": {},
   "outputs": [
    {
     "name": "stdout",
     "output_type": "stream",
     "text": [
      "1920 1920\n"
     ]
    }
   ],
   "source": [
    "print( dimensions[0], dimensions[0])"
   ]
  },
  {
   "cell_type": "code",
   "execution_count": 22,
   "metadata": {},
   "outputs": [
    {
     "name": "stdout",
     "output_type": "stream",
     "text": [
      "Count of 1920: 1\n"
     ]
    }
   ],
   "source": [
    "count_1920 = dimensions.count(1920)\n",
    "print(\"Count of 1920:\", count_1920)"
   ]
  },
  {
   "cell_type": "markdown",
   "metadata": {},
   "source": [
    "### 3. Set\n",
    "Description:\n",
    "Unordered: Does not maintain order.\n",
    "Mutable: Can be modified after creation.\n",
    "No Duplicates: Automatically removes duplicate elements.\n",
    "No Indexing: Does not support indexing or slicing.\n",
    "Common Operations:\n",
    "Adding elements: add(), update()\n",
    "Removing elements: remove(), discard(), pop(), clear()\n",
    "Set operations: union(), intersection(), difference(), symmetric_difference()"
   ]
  },
  {
   "cell_type": "code",
   "execution_count": 23,
   "metadata": {},
   "outputs": [
    {
     "name": "stdout",
     "output_type": "stream",
     "text": [
      "Initial Set: {1, 2, 3, 4, 5}\n"
     ]
    }
   ],
   "source": [
    "# Creating a set\n",
    "numbers = {1, 2, 3, 4, 5}\n",
    "print(\"Initial Set:\", numbers)"
   ]
  },
  {
   "cell_type": "markdown",
   "metadata": {},
   "source": [
    "### 4.Dictionary (dict)\n",
    "\n",
    "Unordered (as of Python 3.7, maintains insertion order).\n",
    "\n",
    "Mutable: Can be modified after creation.\n",
    "\n",
    "Key-Value Pairs: Stores data in key-value pairs.\n",
    "\n",
    "Keys Must Be Immutable and Unique: Values can be of any data type.\n",
    " Common Operations:\n",
    "Adding/Updating entries: dict[key] = value\n",
    "Removing entries: del, pop(), popitem(), clear()\n",
    "Accessing keys and values: keys(), values(), items()\n",
    "Iterating over dictionaries"
   ]
  },
  {
   "cell_type": "code",
   "execution_count": 25,
   "metadata": {},
   "outputs": [
    {
     "name": "stdout",
     "output_type": "stream",
     "text": [
      "Initial Dictionary: {'name': 'Alice', 'age': 30, 'city': 'New York'}\n"
     ]
    }
   ],
   "source": [
    "# Creating a dictionary\n",
    "person = {\n",
    "    'name': 'Alice',\n",
    "    'age': 30,\n",
    "    'city': 'New York'\n",
    "}\n",
    "print(\"Initial Dictionary:\", person)"
   ]
  },
  {
   "cell_type": "code",
   "execution_count": 29,
   "metadata": {},
   "outputs": [
    {
     "data": {
      "text/plain": [
       "('Alice', 30)"
      ]
     },
     "execution_count": 29,
     "metadata": {},
     "output_type": "execute_result"
    }
   ],
   "source": [
    "person[\"name\"],person[\"age\"]"
   ]
  },
  {
   "cell_type": "code",
   "execution_count": 30,
   "metadata": {},
   "outputs": [
    {
     "data": {
      "text/plain": [
       "range(0, 10)"
      ]
     },
     "execution_count": 30,
     "metadata": {},
     "output_type": "execute_result"
    }
   ],
   "source": [
    "range(10)"
   ]
  },
  {
   "cell_type": "code",
   "execution_count": 32,
   "metadata": {},
   "outputs": [],
   "source": [
    "set={1,34,4}\n",
    "set=(2,5,6)\n",
    "dict={\"name\":\"xyz\"}"
   ]
  }
 ],
 "metadata": {
  "kernelspec": {
   "display_name": "python_ml",
   "language": "python",
   "name": "python3"
  },
  "language_info": {
   "codemirror_mode": {
    "name": "ipython",
    "version": 3
   },
   "file_extension": ".py",
   "mimetype": "text/x-python",
   "name": "python",
   "nbconvert_exporter": "python",
   "pygments_lexer": "ipython3",
   "version": "3.11.9"
  }
 },
 "nbformat": 4,
 "nbformat_minor": 2
}
